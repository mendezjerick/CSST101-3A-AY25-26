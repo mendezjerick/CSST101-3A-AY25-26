{
  "nbformat": 4,
  "nbformat_minor": 0,
  "metadata": {
    "colab": {
      "provenance": []
    },
    "kernelspec": {
      "name": "python3",
      "display_name": "Python 3"
    },
    "language_info": {
      "name": "python"
    }
  },
  "cells": [
    {
      "cell_type": "code",
      "execution_count": 5,
      "metadata": {
        "colab": {
          "base_uri": "https://localhost:8080/"
        },
        "id": "msN8ZkqdapUq",
        "outputId": "b8b17fab-3984-434a-cd95-af39d7703fca"
      },
      "outputs": [
        {
          "output_type": "stream",
          "name": "stdout",
          "text": [
            "Welcome to the Travel Planner Expert System!\n",
            "What's your travel budget? (low/medium/high): high\n",
            "What kind of climate do you prefer? (cold/warm/temperate): temperate\n",
            "What kind of activity do you prefer? (adventure/relaxation/culture): culture\n",
            "\n",
            "Recommended Travel Destination:\n",
            "Kyoto, Japan – rich in cultural heritage and beautiful in all seasons. \n"
          ]
        }
      ],
      "source": [
        "%%R\n",
        "cat(\"Welcome to the Travel Planner Expert System!\\n\")\n",
        "\n",
        "# Get user inputs\n",
        "budget <- readline(prompt = \"What's your travel budget? (low/medium/high): \")\n",
        "climate <- readline(prompt = \"What kind of climate do you prefer? (cold/warm/temperate): \")\n",
        "activity <- readline(prompt = \"What kind of activity do you prefer? (adventure/relaxation/culture): \")\n",
        "\n",
        "# Convert input to lowercase for consistency\n",
        "budget <- tolower(budget)\n",
        "climate <- tolower(climate)\n",
        "activity <- tolower(activity)\n",
        "\n",
        "# Rule-based recommendation\n",
        "if (budget == \"low\" && climate == \"warm\" && activity == \"relaxation\") {\n",
        "  recommendation <- \"Bali, Indonesia – affordable and perfect for beach relaxation.\"\n",
        "} else if (budget == \"medium\" && climate == \"cold\" && activity == \"adventure\") {\n",
        "  recommendation <- \"Banff, Canada – great for skiing and winter sports.\"\n",
        "} else if (budget == \"high\" && climate == \"temperate\" && activity == \"culture\") {\n",
        "  recommendation <- \"Kyoto, Japan – rich in cultural heritage and beautiful in all seasons.\"\n",
        "} else if (budget == \"low\" && climate == \"cold\" && activity == \"culture\") {\n",
        "  recommendation <- \"Prague, Czech Republic – budget-friendly and full of history.\"\n",
        "} else if (budget == \"medium\" && climate == \"warm\" && activity == \"adventure\") {\n",
        "  recommendation <- \"Costa Rica – great for ziplining, hiking, and rainforests.\"\n",
        "} else {\n",
        "  recommendation <- \"Try checking local tourist spots or be more specific with your preferences!\"\n",
        "}\n",
        "\n",
        "# Output the recommendation\n",
        "cat(\"\\nRecommended Travel Destination:\\n\")\n",
        "cat(recommendation, \"\\n\")"
      ]
    },
    {
      "cell_type": "code",
      "metadata": {
        "colab": {
          "base_uri": "https://localhost:8080/"
        },
        "id": "8dd21a45",
        "outputId": "42a14260-671d-46fc-f350-f8aa0b09cc73"
      },
      "source": [
        "# Install rpy2 extension\n",
        "%pip install rpy2\n",
        "\n",
        "# Load the rpy2 extension\n",
        "%load_ext rpy2.ipython"
      ],
      "execution_count": 3,
      "outputs": [
        {
          "output_type": "stream",
          "name": "stdout",
          "text": [
            "Requirement already satisfied: rpy2 in /usr/local/lib/python3.12/dist-packages (3.5.17)\n",
            "Requirement already satisfied: cffi>=1.15.1 in /usr/local/lib/python3.12/dist-packages (from rpy2) (2.0.0)\n",
            "Requirement already satisfied: jinja2 in /usr/local/lib/python3.12/dist-packages (from rpy2) (3.1.6)\n",
            "Requirement already satisfied: tzlocal in /usr/local/lib/python3.12/dist-packages (from rpy2) (5.3.1)\n",
            "Requirement already satisfied: pycparser in /usr/local/lib/python3.12/dist-packages (from cffi>=1.15.1->rpy2) (2.23)\n",
            "Requirement already satisfied: MarkupSafe>=2.0 in /usr/local/lib/python3.12/dist-packages (from jinja2->rpy2) (3.0.3)\n"
          ]
        }
      ]
    }
  ]
}